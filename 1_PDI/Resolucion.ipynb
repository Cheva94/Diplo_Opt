{
 "cells": [
  {
   "cell_type": "markdown",
   "metadata": {},
   "source": [
    "# Diplomatura en ciencia de datos, aprendizaje automático y sus aplicaciones - Edición 2023 - FAMAF (UNC)"
   ]
  },
  {
   "cell_type": "markdown",
   "metadata": {},
   "source": [
    "## Procesamiento digital de imágenes\n",
    "\n",
    "### Trabajo práctico entregable\n",
    "\n",
    "**Integrante:**\n",
    "- [Chevallier-Boutell, Ignacio José](https://github.com/Cheva94)\n",
    "\n",
    "\n",
    "**Importante:** para obtener los créditos de materia completa, resolver al menos 1 ejercicio optativo de cada trabajo práctico.\n",
    "\n",
    "---"
   ]
  },
  {
   "cell_type": "markdown",
   "metadata": {},
   "source": [
    "## Librerías"
   ]
  },
  {
   "cell_type": "code",
   "execution_count": null,
   "metadata": {},
   "outputs": [],
   "source": [
    "import imageio\n",
    "import numpy as np\n",
    "import matplotlib.pyplot as plt"
   ]
  },
  {
   "cell_type": "markdown",
   "metadata": {
    "id": "LneF67LKho04",
    "pycharm": {
     "name": "#%% md\n"
    }
   },
   "source": [
    "Abrir imágenes de demo incluídas en la biblioteca. Para evitar cargar desde disco, pueden utilizar estas imágenes para resolver el TP. Si utilizan otras adjuntarlas en la entrega para reproducibilidad."
   ]
  },
  {
   "cell_type": "code",
   "execution_count": null,
   "metadata": {
    "colab": {
     "base_uri": "https://localhost:8080/",
     "height": 373
    },
    "executionInfo": {
     "elapsed": 2044,
     "status": "ok",
     "timestamp": 1665685818270,
     "user": {
      "displayName": "Juan Bajo",
      "userId": "14812284223402771045"
     },
     "user_tz": 180
    },
    "id": "TYCc3AaxhpVN",
    "outputId": "3f74de97-e1bc-41db-81fd-fed41e3590b5",
    "pycharm": {
     "name": "#%%\n"
    }
   },
   "outputs": [],
   "source": [
    "img_1 = imageio.imread('imageio:wikkie.png')\n",
    "plt.imshow(img_1)\n",
    "\n",
    "# Otras imágenes (extraído de la documentación de imageio)\n",
    "\n",
    "# bricks.jpg: A (repeatable) texture of stone bricks\n",
    "# wood.jpg: A (repeatable) texture of wooden planks\n",
    "# astronaut.png: Image of the astronaut Eileen Collins\n",
    "# camera.png: A grayscale image of a photographer\n",
    "# checkerboard.png: Black and white image of a chekerboard\n",
    "# chelsea.png: Image of Stefan’s cat\n",
    "# clock.png: Photo of a clock with motion blur (Stefan van der Walt)\n",
    "# coffee.png: Image of a cup of coffee (Rachel Michetti)\n",
    "# coins.png: Image showing greek coins from Pompeii\n",
    "# horse.png: Image showing the silhouette of a horse (Andreas Preuss)\n",
    "# hubble_deep_field.png: Photograph taken by Hubble telescope (NASA)\n",
    "# immunohistochemistry.png: Immunohistochemical (IHC) staining\n",
    "# moon.png: Image showing a portion of the surface of the moon\n",
    "# page.png: A scanned page of text\n",
    "# text.png: A photograph of handdrawn text\n",
    "# wikkie.png: Image of Almar’s cat"
   ]
  },
  {
   "cell_type": "markdown",
   "metadata": {},
   "source": [
    "## Funciones útiles"
   ]
  },
  {
   "cell_type": "code",
   "execution_count": null,
   "metadata": {},
   "outputs": [],
   "source": []
  },
  {
   "cell_type": "markdown",
   "metadata": {
    "id": "tPKVpRclhw8_",
    "pycharm": {
     "name": "#%% md\n"
    }
   },
   "source": [
    "---\n",
    "# Ejercicio 1.1\n",
    "La propuesta para esta actividad consiste en manipular independientemente la luminancia y la saturación de una imagen.\n",
    "Para ello convertimos cada pixel de la imagen del espacio RGB al espacio YIQ, luego alteramos los valores de Y (para cambiar la luminancia) o de IQ (para cambiar la saturación).\n",
    "Con los nuevos valores de YIQ, convertimos a RGB nuevamente y obtenemos una nueva imagen."
   ]
  },
  {
   "cell_type": "code",
   "execution_count": null,
   "metadata": {
    "id": "nY37RXHXft1I",
    "pycharm": {
     "name": "#%%\n"
    }
   },
   "outputs": [],
   "source": []
  },
  {
   "cell_type": "markdown",
   "metadata": {
    "id": "F_MN0C8HiQIF",
    "pycharm": {
     "name": "#%% md\n"
    }
   },
   "source": [
    "---\n",
    "# Ejercicio 1.2\n",
    "Desarrollar un aplicativo o notebook que pueda abrir una imagen, manipule su histograma de luminancias, y luego ver la imagen procesada. Se debe poder elegir filtro raíz, cuadrado, o lineal a trozos.\n",
    "Los controles para elegir los filtros los organizan como les resulte más cómodo."
   ]
  },
  {
   "cell_type": "code",
   "execution_count": null,
   "metadata": {
    "id": "hhTPGS3liRMB",
    "pycharm": {
     "name": "#%%\n"
    }
   },
   "outputs": [],
   "source": []
  },
  {
   "cell_type": "markdown",
   "metadata": {
    "id": "Gz2bb5eZilpY",
    "pycharm": {
     "name": "#%% md\n"
    }
   },
   "source": [
    "---\n",
    "# Ejercicio 2.1\n",
    "Implementar un aplicativo o notebook que levante una imagen en nivel de gris (o que la convierta a YIQ y retenga solo el Y) y aplique el filtrado por convolución aquí visto:\n",
    "1. Pasabajos: Plano, Bartlett 3x3, Gaussiano 5x5.\n",
    "2. Detectores de bordes: Laplaciano v4, Sobel 4 orientaciones.\n",
    "3. Pasabanda.\n",
    "\n",
    "Respecto del “cierre” de la imagen cerca de los bordes, implementar la técnica no ma- temáticamente perfecta de “repetir” artificialmente filas o columnas cuando estas hagan falta. Por ejemplo, si el kernel es 3x3 y estoy en la primera columna, y no hay ninguna columna a la izquierda, entonces repito la primera columna como si estuviese en la imagen original."
   ]
  },
  {
   "cell_type": "code",
   "execution_count": null,
   "metadata": {
    "id": "jR2uoPqAip_h",
    "pycharm": {
     "name": "#%%\n"
    }
   },
   "outputs": [],
   "source": []
  },
  {
   "cell_type": "markdown",
   "metadata": {
    "id": "60KOrhPYkih4",
    "pycharm": {
     "name": "#%% md\n"
    }
   },
   "source": [
    "---\n",
    "# Ejercicio 2.2\n",
    "Desarrollar un aplicativo o notebook que implemente los conceptos de morfología en niveles de gris aquí descriptos, con un elemento estructurante 3x3. El mismo incluirá las siguientes funciones:\n",
    "- Erosión (tomar el mínimo valor de luminancia de la vecindad).\n",
    "- Dilatación (máximo)\n",
    "- Apertura, cierre, borde morfológico\n",
    "- Mediana\n",
    "- Top-hat\n",
    "Incluir la capacidad de copiar la componente de la imagen procesada en la componente original, para poder aplicar dos o más filtrados en secuencia."
   ]
  },
  {
   "cell_type": "code",
   "execution_count": null,
   "metadata": {
    "id": "NXxOxbSIko24",
    "pycharm": {
     "name": "#%%\n"
    }
   },
   "outputs": [],
   "source": []
  },
  {
   "cell_type": "markdown",
   "metadata": {
    "id": "wh2o1ydoksDv",
    "pycharm": {
     "name": "#%% md\n"
    }
   },
   "source": [
    "---\n",
    "# Ejercicios Optativos. Ver presentación para más detalle\n",
    "Recordá que hay ejercicios opcionales especificados en la presentación correspondiente al trabajo práctico."
   ]
  }
 ],
 "metadata": {
  "colab": {
   "authorship_tag": "ABX9TyM6Ci7JfDdaPs/g38IjJj7A",
   "collapsed_sections": [],
   "provenance": []
  },
  "kernelspec": {
   "display_name": "Python 3",
   "name": "python3"
  },
  "language_info": {
   "codemirror_mode": {
    "name": "ipython",
    "version": 3
   },
   "file_extension": ".py",
   "mimetype": "text/x-python",
   "name": "python",
   "nbconvert_exporter": "python",
   "pygments_lexer": "ipython3",
   "version": "3.10.12"
  }
 },
 "nbformat": 4,
 "nbformat_minor": 0
}
