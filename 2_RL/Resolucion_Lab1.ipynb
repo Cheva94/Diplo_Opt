{
 "cells": [
  {
   "cell_type": "markdown",
   "metadata": {},
   "source": [
    "# Diplomatura en ciencia de datos, aprendizaje automático y sus aplicaciones - Edición 2023 - FAMAF (UNC)\n",
    "\n",
    "## Aprendizaje por refuerzos\n",
    "\n",
    "### Trabajo práctico entregable 1/2 (materia completa)\n",
    "\n",
    "**Estudiante:**\n",
    "- [Chevallier-Boutell, Ignacio José.](https://www.linkedin.com/in/nachocheva/)\n",
    "\n",
    "**Docentes:**\n",
    "- Palombarini, Jorge (Mercado Libre).\n",
    "- Barsce, Juan Cruz (Mercado Libre).\n",
    "\n",
    "---"
   ]
  },
  {
   "cell_type": "markdown",
   "metadata": {},
   "source": [
    "## Librerías"
   ]
  },
  {
   "cell_type": "code",
   "execution_count": 186,
   "metadata": {},
   "outputs": [],
   "source": [
    "import itertools\n",
    "from typing import Any, Callable, Tuple\n",
    "\n",
    "import numpy as np\n",
    "import matplotlib.pyplot as plt\n",
    "\n",
    "import gymnasium as gym"
   ]
  },
  {
   "cell_type": "markdown",
   "metadata": {},
   "source": [
    "Para ver los videos de las ejecuciones hay que tener instalado ffmpeg (`apt-get install ffmpeg`)."
   ]
  },
  {
   "cell_type": "markdown",
   "metadata": {},
   "source": [
    "## Funciones predefinidas de ploteo"
   ]
  },
  {
   "cell_type": "code",
   "execution_count": 187,
   "metadata": {},
   "outputs": [],
   "source": [
    "def plot_reward_per_episode(ep_return) -> None:\n",
    "    episode_returns = np.array(ep_return)\n",
    "\n",
    "    # se suaviza la curva de convergencia\n",
    "    episode_number = np.linspace(\n",
    "        1, len(episode_returns) + 1, len(episode_returns) + 1)\n",
    "    acumulated_rewards = np.cumsum(episode_returns)\n",
    "\n",
    "    reward_per_episode = [\n",
    "        acumulated_rewards[i] / episode_number[i]\n",
    "        for i in range(len(acumulated_rewards))\n",
    "    ]\n",
    "\n",
    "    plt.plot(reward_per_episode)\n",
    "    plt.title(\"Recompensa acumulada por episodio\")\n",
    "    plt.show()"
   ]
  },
  {
   "cell_type": "code",
   "execution_count": 188,
   "metadata": {},
   "outputs": [],
   "source": [
    "def plot_steps_per_episode(ep_timesteps) -> None:\n",
    "    # se muestra la curva de aprendizaje de los pasos por episodio\n",
    "    episode_steps = np.array(ep_timesteps)\n",
    "    plt.plot(np.array(range(0, len(episode_steps))), episode_steps)\n",
    "    plt.title(\"Pasos (timesteps) por episodio\")\n",
    "    plt.show()"
   ]
  },
  {
   "cell_type": "code",
   "execution_count": 189,
   "metadata": {},
   "outputs": [],
   "source": [
    "def plot_steps_per_episode_smooth(ep_timesteps) -> None:\n",
    "    episode_steps = np.array(ep_timesteps)\n",
    "\n",
    "    # se suaviza la curva de aprendizaje\n",
    "    episode_number = np.linspace(\n",
    "        1, len(episode_steps) + 1, len(episode_steps) + 1)\n",
    "    acumulated_steps = np.cumsum(episode_steps)\n",
    "\n",
    "    steps_per_episode = [\n",
    "        acumulated_steps[i] / episode_number[i] for i in range(\n",
    "            len(acumulated_steps))\n",
    "    ]\n",
    "\n",
    "    plt.plot(steps_per_episode)\n",
    "    plt.title(\"Pasos (timesteps) acumulados por episodio\")\n",
    "    plt.show()"
   ]
  },
  {
   "cell_type": "code",
   "execution_count": 190,
   "metadata": {},
   "outputs": [],
   "source": [
    "def draw_value_matrix(q) -> None:\n",
    "    n_rows = 4\n",
    "    n_columns = 12\n",
    "    n_actions = 4\n",
    "\n",
    "    # se procede con los cálculos previos a la graficación de la matriz de valor\n",
    "    q_value_matrix = np.empty((n_rows, n_columns))\n",
    "    for row in range(n_rows):\n",
    "        for column in range(n_columns):\n",
    "            state_values = []\n",
    "\n",
    "            for action in range(n_actions):\n",
    "                state_values.append(\n",
    "                    q.get((row * n_columns + column, action), -100))\n",
    "\n",
    "            maximum_value = max(\n",
    "                state_values\n",
    "            )  # determinamos la acción que arroja máximo valor\n",
    "\n",
    "            q_value_matrix[row, column] = maximum_value\n",
    "\n",
    "    # el valor del estado objetivo se asigna en -1 (reward recibido al llegar)\n",
    "    # para que se coloree de forma apropiada\n",
    "    q_value_matrix[3, 11] = -1\n",
    "\n",
    "    # se grafica la matriz de valor\n",
    "    plt.imshow(q_value_matrix, cmap=plt.cm.RdYlGn)\n",
    "    plt.tight_layout()\n",
    "    plt.colorbar()\n",
    "\n",
    "    for row, column in itertools.product(\n",
    "        range(q_value_matrix.shape[0]), range(q_value_matrix.shape[1])\n",
    "    ):\n",
    "        left_action = q.get((row * n_columns + column, 3), -1000)\n",
    "        down_action = q.get((row * n_columns + column, 2), -1000)\n",
    "        right_action = q.get((row * n_columns + column, 1), -1000)\n",
    "        up_action = q.get((row * n_columns + column, 0), -1000)\n",
    "\n",
    "        arrow_direction = \"D\"\n",
    "        best_action = down_action\n",
    "\n",
    "        if best_action < right_action:\n",
    "            arrow_direction = \"R\"\n",
    "            best_action = right_action\n",
    "        if best_action < left_action:\n",
    "            arrow_direction = \"L\"\n",
    "            best_action = left_action\n",
    "        if best_action < up_action:\n",
    "            arrow_direction = \"U\"\n",
    "            best_action = up_action\n",
    "        if best_action == -1:\n",
    "            arrow_direction = \"\"\n",
    "\n",
    "        # notar que column, row están invertidos en orden en la línea de abajo\n",
    "        # porque representan a x,y del plot\n",
    "        plt.text(column, row, arrow_direction, horizontalalignment=\"center\")\n",
    "\n",
    "    plt.xticks([])\n",
    "    plt.yticks([])\n",
    "    plt.show()\n",
    "\n",
    "    print(\"\\n Matriz de mejor acción-valor (en números): \\n\\n\", q_value_matrix)"
   ]
  },
  {
   "cell_type": "markdown",
   "metadata": {},
   "source": [
    "---\n",
    "# Cliff walking"
   ]
  },
  {
   "cell_type": "markdown",
   "metadata": {},
   "source": [
    "## Descripción del problema\n",
    "\n",
    "Cliff walking es un juego que involucra moverse sobre un mapa (grilla 4x12) desde un punto inicial (Start, S) hasta un punto final (Goal, G), evitando caer por el precipicio (The Cliff).\n",
    "\n",
    "![](https://github.com/GIDISIA/RLDiplodatos/blob/master/images/cliffwalking.png?raw=1)\n",
    "\n",
    "Imagen: Sutton y Barto, 2018."
   ]
  },
  {
   "cell_type": "markdown",
   "metadata": {},
   "source": [
    "Al comenzar un episodio, el jugador se ubica en el elemento [3, 0] de la grilla y debe llegar hasta el elemento [3, 11] para terminar dicho episodio. El precipio se ubica en [3, 1:11]. Cuando el jugador llega a uno de estos elementos, *se cae por el precipicio* y vuelve al punto inicial [3, 0]. El jugador debe realizar tantos movimientos como sean necesarios para llegar a la meta y finalizar el episodio.\n",
    "\n",
    "El espacio de acciones $\\mathcal{A}$ tiene 4 elementos:\n",
    "- 0 $\\Rightarrow$ Se mueve hacia arriba\n",
    "- 1 $\\Rightarrow$ Se mueve hacia la derecha\n",
    "- 2 $\\Rightarrow$ Se mueve hacia abajo\n",
    "- 3 $\\Rightarrow$ Se mueve hacia la izquierda\n",
    "\n",
    "A pesar de que la grilla tiene 48 elementos, el jugador no puede estar en el precipicio, ya que vuelve al punto S, y tampoco puede estar en la meta, sino sólo llegar a ésta, ya que es el estado terminal del episodio. Esto resulta en que el espacio de estados $\\mathcal{S}$ tiene 37 elementos. Para calcular el valor del estado asociado a cada elemento del mapa debemos calcular\n",
    "    $$\\text{Fila Actual} \\times \\text{Número de Columnas} + \\text{Columna Actual}$$\n",
    "\n",
    "donde debemos contar desde 0. De esta manera, el estado inicial es el estado 36.\n",
    "\n",
    "Se cumple que $\\mathcal{A}, \\mathcal{S} \\in \\mathbb{N}$, teniendo al cero como primer elemento.\n",
    "\n",
    "La función de recompensa es tal que el jugador recibe:\n",
    "- $-100$ cuando cae el precipicio.\n",
    "- $-1$ en todos los demás casos."
   ]
  },
  {
   "cell_type": "markdown",
   "metadata": {},
   "source": [
    "## Elementos del agente"
   ]
  },
  {
   "cell_type": "markdown",
   "metadata": {},
   "source": [
    "### Heurísticas de selección de acciones: políticas\n",
    "\n",
    "Se definen los métodos para decidir qué acciones tomar, pudiendo ser $\\epsilon$-greedy o SoftMax."
   ]
  },
  {
   "cell_type": "code",
   "execution_count": 191,
   "metadata": {},
   "outputs": [],
   "source": [
    "def pol_e_greedy(state: int, \n",
    "                actions: range, \n",
    "                q: dict,\n",
    "                hyperparameters: dict,\n",
    "                random_state: np.random.RandomState\n",
    "                ) -> int:\n",
    "\n",
    "    \"\"\"\n",
    "    Elije una acción de acuerdo al aprendizaje realizado previamente\n",
    "    usando una política de exploración-explotación épsilon-greedy\n",
    "    \"\"\"\n",
    "\n",
    "    # Lista de valores q asociados a un estado-acción, inicializando con 0.0\n",
    "    q_values = [q.get((state, a)) for a in actions]\n",
    "\n",
    "    # Toma el valor máximo\n",
    "    max_q = max(q_values)\n",
    "\n",
    "    # Puede haber más de un valor máximo\n",
    "    count = q_values.count(max_q)\n",
    "\n",
    "    # Sortemaos un número aleatorio y comparamos con épsilon\n",
    "    if random_state.uniform() < hyperparameters['epsilon']:\n",
    "        # Exploramos, seleccionando una acción aleatoriamente\n",
    "        return random_state.choice(actions)\n",
    "\n",
    "    # Al no cumplirse la condición, explotamos\n",
    "    elif count > 1:\n",
    "        # Hay más de un valor máximo. Sorteamos alguno de ellos\n",
    "        best = [i for i in range(len(actions)) if q_values[i] == max_q]\n",
    "        i = random_state.choice(best)\n",
    "    \n",
    "    else:\n",
    "        # Hay un único valor máximo, eligiendo el correspondiente estado-acción\n",
    "        i = q_values.index(max_q)\n",
    "\n",
    "    return actions[i]"
   ]
  },
  {
   "cell_type": "code",
   "execution_count": 192,
   "metadata": {},
   "outputs": [],
   "source": [
    "# def choose_action_softmax() -> int:\n",
    "#     \"\"\"\n",
    "#     Elije una acción de acuerdo al aprendizaje realizado previamente\n",
    "#     usando una política softmax\n",
    "#     \"\"\"\n",
    "\n",
    "#     # TODO: implementar\n",
    "#     pass"
   ]
  },
  {
   "cell_type": "markdown",
   "metadata": {},
   "source": [
    "### Aprendizaje por diferencias temporales\n",
    "\n",
    "Se definen los métodos de aprendizaje, los cuales toman una transición y cambian el diccionario de los valores de Q de acuerdo a Sarsa o Q-learning."
   ]
  },
  {
   "cell_type": "code",
   "execution_count": 193,
   "metadata": {},
   "outputs": [],
   "source": [
    "def dont_learn(state: Any,\n",
    "               action: Any,\n",
    "               reward: Any,\n",
    "               next_state: Any,\n",
    "               next_action: Any,\n",
    "               hyperparameters: Any,\n",
    "               q: Any,\n",
    "               ) -> None:\n",
    "\n",
    "    \"\"\"\n",
    "    No aprende nada, sino que simplemente progresa mediante la política elegida \n",
    "    de exploración-explotación.\n",
    "    \"\"\"\n",
    "\n",
    "    pass"
   ]
  },
  {
   "cell_type": "code",
   "execution_count": 194,
   "metadata": {},
   "outputs": [],
   "source": [
    "def learn_SARSA(state: int,\n",
    "                action: int,\n",
    "                reward: int,\n",
    "                next_state: int,\n",
    "                next_action: int,\n",
    "                hyperparameters: dict,\n",
    "                q: dict\n",
    "                ) -> Tuple[int, int]:\n",
    "                # ) -> None:\n",
    "\n",
    "    \"\"\"\n",
    "    Realiza una actualización según el algoritmo SARSA, para una transición de \n",
    "    estado dada.\n",
    "    Args:\n",
    "        state: COMPLETAR\n",
    "        action: COMPLETAR\n",
    "        reward: COMPLETAR\n",
    "        next_state: COMPLETAR\n",
    "        next_action: COMPLETAR\n",
    "        hyperparameters: COMPLETAR\n",
    "        q: COMPLETAR\n",
    "    \"\"\"\n",
    "\n",
    "    # Actualizo el valor del estado-acción\n",
    "    Target = reward + hyperparameters['gamma']  * q[(next_state, next_action)]\n",
    "    TD_error = Target - q[(state, action)]\n",
    "    q[(state, action)] += hyperparameters['alpha'] * TD_error\n",
    "\n",
    "    # Actualizo el estado\n",
    "    state = next_state\n",
    "\n",
    "    # Actualizo la acción\n",
    "    action = next_action\n",
    "\n",
    "    return state, action\n",
    "    # pass"
   ]
  },
  {
   "cell_type": "code",
   "execution_count": 195,
   "metadata": {},
   "outputs": [],
   "source": [
    "# completar argumentos de la función para hacer una actualización Q-learning\n",
    "def learn_Q_learning(\n",
    "        # COMPLETAR\n",
    ") -> None:\n",
    "    \"\"\"\n",
    "    Realiza una actualización según el algoritmo Q-learning, para una transición\n",
    "    de estado dada\n",
    "    Args: COMPLETAR\n",
    "    \"\"\"\n",
    "\n",
    "    # TODO - completa con tu código aquí\n",
    "\n",
    "    pass"
   ]
  },
  {
   "cell_type": "markdown",
   "metadata": {},
   "source": [
    "### Iteraciones\n",
    "\n",
    "Definimos la manera en la que itera el algoritmo."
   ]
  },
  {
   "cell_type": "code",
   "execution_count": 196,
   "metadata": {},
   "outputs": [],
   "source": [
    "def run(learning_function: Callable, \n",
    "        hyperparameters: dict, \n",
    "        episodes_to_run: int, \n",
    "        env: gym.Env, \n",
    "        actions: range, \n",
    "        q: dict, \n",
    "        random_state: np.random.RandomState\n",
    "        ) -> Tuple[np.ndarray, np.ndarray, int, int, int]:\n",
    "\n",
    "    \"\"\"\n",
    "    Corre el algoritmo de RL.\n",
    "    Args:\n",
    "        learning_function: función de actualización de algoritmo de aprendizaje\n",
    "        hyperparameters: hiperparámetros del algoritmo de aprendizaje\n",
    "        episodes_to_run: cantidad de episodios a ejecutar\n",
    "        env: entorno de Gymnasium\n",
    "        actions: lista de acciones posibles\n",
    "        q: diccionario de valores de estado-acción\n",
    "        random_state: generador de números aleatorios\n",
    "    \"\"\"\n",
    "\n",
    "    # Registra la cantidad de pasos de cada episodio\n",
    "    timesteps_of_episode = []\n",
    "\n",
    "    # Registra el retorno de cada episodio\n",
    "    return_of_episode = []\n",
    "\n",
    "    # Cantidad máxima de pasos temporales\n",
    "    max_iter = 2000\n",
    "\n",
    "    # Casuísticas de finalización\n",
    "    goal, drop, early = 0, 0, 0\n",
    "\n",
    "    # Loop sobre los episodios\n",
    "    for _ in range(episodes_to_run):\n",
    "        # Instancea un nuevo agente en cada episodio\n",
    "        # Fin del episodio: llegar a la salida o superar max_iter\n",
    "\n",
    "        # Reinicia el entorno, obteniendo el estado inicial del mismo\n",
    "        state, _ = env.reset()\n",
    "\n",
    "        # Retorno del episodio\n",
    "        episode_return = 0\n",
    "\n",
    "        # Contador de pasos temporales\n",
    "        t = 0\n",
    "\n",
    "        # Flag de finalización de iteración actual\n",
    "        done = False\n",
    "\n",
    "        # Elige la primera acción a ejecutar\n",
    "        action = pol_e_greedy(state, \n",
    "                              actions, \n",
    "                              q, \n",
    "                              hyperparameters, \n",
    "                              random_state)\n",
    "\n",
    "        while not done:\n",
    "            # El agente ejecuta la acción elegida y obtiene los resultados\n",
    "            next_state, reward, terminated, truncated, _ = env.step(action)\n",
    "\n",
    "            # Acumulamos recompensa\n",
    "            episode_return += reward\n",
    "\n",
    "            # Elige la nueva acción a ejecutar partiendo desde el nuevo estado\n",
    "            next_action = pol_e_greedy(next_state, \n",
    "                                       actions, \n",
    "                                       q, \n",
    "                                       hyperparameters, \n",
    "                                       random_state)\n",
    "\n",
    "            # Mecanismo de aprendizaje por TD\n",
    "            # Aprendo con Sarsa\n",
    "            state, action = learning_function(state,\n",
    "                                            action,\n",
    "                                            reward,\n",
    "                                            next_state,\n",
    "                                            next_action,\n",
    "                                            hyperparameters,\n",
    "                                            q)\n",
    "\n",
    "            # Análisis de convergencia\n",
    "            if terminated:\n",
    "                # El agente alcanzó el objetivo\n",
    "                goal += 1\n",
    "                timesteps_of_episode = np.append(timesteps_of_episode, \n",
    "                                                 [int(t + 1)])\n",
    "                # return_of_episode = np.append(return_of_episode, \n",
    "                #                               max(episode_return, -100))        # por qué hace esta comparación?\n",
    "                return_of_episode = np.append(return_of_episode, episode_return)\n",
    "                done = True\n",
    "            \n",
    "            elif truncated:\n",
    "                # El agente ejecutó una acción inválida\n",
    "                drop += 1\n",
    "                timesteps_of_episode = np.append(timesteps_of_episode, \n",
    "                                                 [int(t + 1)])\n",
    "                # return_of_episode = np.append(return_of_episode, \n",
    "                #                               max(episode_return, -100))        # por qué hace esta comparación?\n",
    "                return_of_episode = np.append(return_of_episode, episode_return)\n",
    "                done = True\n",
    "\n",
    "            # elif t < max_iter:\n",
    "            #     # Quedan pasos disponibles\n",
    "            #     print('')\n",
    "            \n",
    "            elif t >= max_iter:\n",
    "                # Early stopping\n",
    "                early += 1\n",
    "                timesteps_of_episode = np.append(timesteps_of_episode, \n",
    "                                                 [int(t + 1)])\n",
    "                # return_of_episode = np.append(return_of_episode, \n",
    "                #                               max(episode_return, -100))        # por qué hace esta comparación?\n",
    "                return_of_episode = np.append(return_of_episode, episode_return)\n",
    "                done = True\n",
    "                \n",
    "            t += 1\n",
    "\n",
    "    return timesteps_of_episode, return_of_episode, goal, drop, early"
   ]
  },
  {
   "cell_type": "markdown",
   "metadata": {},
   "source": [
    "## Implementaciones"
   ]
  },
  {
   "cell_type": "code",
   "execution_count": 197,
   "metadata": {},
   "outputs": [],
   "source": [
    "# env = gym.make(\"CliffWalking-v0\", render_mode=\"human\")\n",
    "env = gym.make(\"CliffWalking-v0\")\n",
    "actions = range(env.action_space.n)"
   ]
  },
  {
   "cell_type": "code",
   "execution_count": 198,
   "metadata": {},
   "outputs": [
    {
     "data": {
      "text/plain": [
       "(-inf, inf)"
      ]
     },
     "execution_count": 198,
     "metadata": {},
     "output_type": "execute_result"
    }
   ],
   "source": [
    "env.reward_range"
   ]
  },
  {
   "cell_type": "markdown",
   "metadata": {},
   "source": [
    "### Sarsa + $\\epsilon$-greedy"
   ]
  },
  {
   "cell_type": "code",
   "execution_count": 199,
   "metadata": {},
   "outputs": [],
   "source": [
    "learning_function = learn_SARSA\n",
    "# learning_function = dont_learn\n",
    "\n",
    "hyperparameters = {\"alpha\": 0.5, \n",
    "                   \"gamma\": 1, # \"gamma\": 1, \n",
    "                   \"epsilon\": 0.1, \n",
    "                   \"tau\": 25}\n",
    "\n",
    "episodes_to_run = 500\n",
    "\n",
    "# Meter la inicialización del q en el run\n",
    "\n",
    "\n",
    "# Valores para cada par (estado, acción), inicializados en 0.0\n",
    "q = {}\n",
    "# for s in range(37):\n",
    "#     for a in range(4):\n",
    "#         q[(s, a)] = 0.0\n",
    "for s in range(49):\n",
    "    for a in range(4):\n",
    "        q[(s, a)] = 0.0\n",
    "\n",
    "# Semilla aleatoria\n",
    "random_state = np.random.RandomState(1994)"
   ]
  },
  {
   "cell_type": "code",
   "execution_count": 200,
   "metadata": {},
   "outputs": [
    {
     "data": {
      "image/png": "[encoded data removed]",
      "text/plain": [
       "<Figure size 640x480 with 2 Axes>"
      ]
     },
     "metadata": {},
     "output_type": "display_data"
    },
    {
     "name": "stdout",
     "output_type": "stream",
     "text": [
      "\n",
      " Matriz de mejor acción-valor (en números): \n",
      "\n",
      " [[ 0.  0.  0.  0.  0.  0.  0.  0.  0.  0.  0.  0.]\n",
      " [ 0.  0.  0.  0.  0.  0.  0.  0.  0.  0.  0.  0.]\n",
      " [ 0.  0.  0.  0.  0.  0.  0.  0.  0.  0.  0.  0.]\n",
      " [ 0.  0.  0.  0.  0.  0.  0.  0.  0.  0.  0. -1.]]\n"
     ]
    }
   ],
   "source": [
    "draw_value_matrix(q)"
   ]
  },
  {
   "cell_type": "code",
   "execution_count": 201,
   "metadata": {},
   "outputs": [],
   "source": [
    "ep_timesteps, ep_return, ep_goal, ep_drop, ep_early = run(learning_function,\n",
    "                                                          hyperparameters,\n",
    "                                                          episodes_to_run,\n",
    "                                                          env,\n",
    "                                                          actions,\n",
    "                                                          q,\n",
    "                                                          random_state)\n",
    "\n",
    "env.close()"
   ]
  },
  {
   "cell_type": "code",
   "execution_count": 202,
   "metadata": {},
   "outputs": [
    {
     "name": "stdout",
     "output_type": "stream",
     "text": [
      "500 0 0\n"
     ]
    }
   ],
   "source": [
    "print(ep_goal, ep_drop, ep_early)"
   ]
  },
  {
   "cell_type": "code",
   "execution_count": 203,
   "metadata": {},
   "outputs": [
    {
     "data": {
      "image/png": "[encoded data removed]",
      "text/plain": [
       "<Figure size 640x480 with 1 Axes>"
      ]
     },
     "metadata": {},
     "output_type": "display_data"
    }
   ],
   "source": [
    "plot_reward_per_episode(ep_return)"
   ]
  },
  {
   "cell_type": "code",
   "execution_count": 204,
   "metadata": {},
   "outputs": [
    {
     "data": {
      "image/png": "[encoded data removed]",
      "text/plain": [
       "<Figure size 640x480 with 1 Axes>"
      ]
     },
     "metadata": {},
     "output_type": "display_data"
    }
   ],
   "source": [
    "plot_steps_per_episode(ep_timesteps)"
   ]
  },
  {
   "cell_type": "code",
   "execution_count": 205,
   "metadata": {},
   "outputs": [
    {
     "data": {
      "image/png": "[encoded data removed]",
      "text/plain": [
       "<Figure size 640x480 with 1 Axes>"
      ]
     },
     "metadata": {},
     "output_type": "display_data"
    }
   ],
   "source": [
    "plot_steps_per_episode_smooth(ep_timesteps)"
   ]
  },
  {
   "cell_type": "code",
   "execution_count": 206,
   "metadata": {},
   "outputs": [
    {
     "data": {
      "image/png": "[encoded data removed]",
      "text/plain": [
       "<Figure size 640x480 with 2 Axes>"
      ]
     },
     "metadata": {},
     "output_type": "display_data"
    },
    {
     "name": "stdout",
     "output_type": "stream",
     "text": [
      "\n",
      " Matriz de mejor acción-valor (en números): \n",
      "\n",
      " [[-17.48488934 -15.98083396 -14.58099581 -13.41653436 -12.12298806\n",
      "  -11.73106493 -10.25259675 -10.15640782  -6.31606875  -5.10992986\n",
      "   -4.45095291  -3.07046825]\n",
      " [-17.1284008  -15.90286043 -15.42166039 -15.53650891 -13.24471183\n",
      "  -14.04044277 -10.75223293 -10.40808524 -12.12336218  -7.59889888\n",
      "   -3.50889109  -2.15855633]\n",
      " [-18.00832714 -22.06318089 -16.40817494 -15.44196675 -14.39431143\n",
      "  -14.8277649  -14.47474241 -12.67702124  -8.20664562  -7.11965236\n",
      "   -3.01637146  -1.        ]\n",
      " [-19.35626666   0.           0.           0.           0.\n",
      "    0.           0.           0.           0.           0.\n",
      "    0.          -1.        ]]\n"
     ]
    }
   ],
   "source": [
    "draw_value_matrix(q)"
   ]
  }
 ],
 "metadata": {
  "colab": {
   "authorship_tag": "ABX9TyM6Ci7JfDdaPs/g38IjJj7A",
   "collapsed_sections": [],
   "provenance": []
  },
  "kernelspec": {
   "display_name": "Python 3",
   "name": "python3"
  },
  "language_info": {
   "codemirror_mode": {
    "name": "ipython",
    "version": 3
   },
   "file_extension": ".py",
   "mimetype": "text/x-python",
   "name": "python",
   "nbconvert_exporter": "python",
   "pygments_lexer": "ipython3",
   "version": "3.10.12"
  }
 },
 "nbformat": 4,
 "nbformat_minor": 0
}
