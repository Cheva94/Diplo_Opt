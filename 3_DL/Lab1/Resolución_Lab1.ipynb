{
  "cells": [
    {
      "cell_type": "markdown",
      "metadata": {
        "id": "vYg4jx_iZ3Ey"
      },
      "source": [
        "# Diplomatura en ciencia de datos, aprendizaje automático y sus aplicaciones - Edición 2023 - FAMAF (UNC)\n",
        "\n",
        "## Introducción al aprendizaje profundo\n",
        "\n",
        "### Trabajo práctico entregable 1/2 (materia completa)\n",
        "\n",
        "- **Estudiantes:**\n",
        "    - [Chevallier-Boutell, Ignacio José.](https://www.linkedin.com/in/nachocheva/)\n",
        "    - Gastelu, Gabriela.\n",
        "    - Santos, Maricel.\n",
        "    - Spano, Marcelo.\n",
        "\n",
        "- **Docentes:**\n",
        "    - Johanna Analiz Frau (Mercado Libre).\n",
        "    - Nindiría Armenta Guerrero (fyo).\n",
        "\n",
        "---"
      ]
    },
    {
      "cell_type": "markdown",
      "metadata": {
        "id": "81o1pr1wZ3E2"
      },
      "source": [
        "## Librerías y dataset"
      ]
    },
    {
      "cell_type": "code",
      "execution_count": 1,
      "metadata": {
        "id": "SkfYanqJZ3E3"
      },
      "outputs": [],
      "source": [
        "import pandas as pd\n",
        "pd.set_option('display.max_columns', None)\n",
        "pd.set_option('display.max_rows', None)\n",
        "import numpy as np\n",
        "import matplotlib.pyplot as plt\n",
        "import seaborn as sns"
      ]
    },
    {
      "cell_type": "code",
      "execution_count": 4,
      "metadata": {
        "id": "YTxfPCoFZ3E4",
        "outputId": "b906e3ab-cb40-4062-b52e-f67c269704e6",
        "colab": {
          "base_uri": "https://localhost:8080/"
        }
      },
      "outputs": [
        {
          "output_type": "stream",
          "name": "stdout",
          "text": [
            "hola\n"
          ]
        }
      ],
      "source": [
        "try:\n",
        "  import google.colab\n",
        "  IN_COLAB = True\n",
        "\n",
        "except:\n",
        "  IN_COLAB = False\n",
        "\n",
        "if not IN_COLAB:\n",
        "    df = pd.read_csv('diabetes_binary_5050split_health_indicators_BRFSS2015.csv')\n",
        "else:\n",
        "    print('hola')"
      ]
    },
    {
      "cell_type": "markdown",
      "metadata": {
        "id": "7b6ufcuoZ3E4"
      },
      "source": [
        "---\n",
        "# Ejercicio 1: Descripción del dataset"
      ]
    },
    {
      "cell_type": "markdown",
      "metadata": {
        "id": "TkXf37kzZ3E5"
      },
      "source": [
        "El BRFSS (Sistema de Vigilancia de Factores de Riesgo del Comportamiento) es una encuesta telefónica relacionada con la salud que los CDC (Centros para Control y prevención de Enfermedades) recopilan anualmente, desde 1984. Cada año, la encuesta recopila respuestas de más de 400.000 estadounidenses sobre conductas de riesgo relacionadas con la salud, enfermedades crónicas y el uso de servicios preventivos.\n",
        "\n",
        "Los datos que usaremos corresponden al año 2015. El dataset original consta de 441.455 personas y tiene 330 características, las cuales son preguntas formuladas directamente a los participantes o variables calculadas en función de las respuestas de los participantes. Particularmente, el csv que utilizaremos tiene ya una limpieza, quedando 70692 respuestas, donde la mitad no tienen diabetes y la otra mitad tienen prediabetes o diabetes propiamente dicha. La variable objetivo (`Diabetes_binary`) es binaria: 0 corresponde a ausencia de diabetes y 1 corresponde a prediabetes o diabetes. Además, el dataset está balanceado y consta de 21 características. Todas las variables son numéricas (de punto flotante) y no se presentan valores nulos."
      ]
    },
    {
      "cell_type": "code",
      "execution_count": null,
      "metadata": {
        "id": "apPsDlraZ3E5"
      },
      "outputs": [],
      "source": [
        "df.info()\n",
        "\n",
        "print('\\n\\n ###-------------------------------------### \\n Distribución de Diabetes_binary:')\n",
        "display(df['Diabetes_binary'].value_counts())\n",
        "\n",
        "print('\\n\\n ###-------------------------------------### \\n Pequeña muestra del dataset:')\n",
        "df.sample(5, random_state=1994)\n"
      ]
    },
    {
      "cell_type": "markdown",
      "metadata": {
        "id": "aPR1H0xrZ3E6"
      },
      "source": [
        "Al considerar la cantidad de valores únicos presentes en cada variable, vemos que hay 14 de las 21 características son binarias."
      ]
    },
    {
      "cell_type": "code",
      "execution_count": null,
      "metadata": {
        "id": "59DY16WOZ3E6"
      },
      "outputs": [],
      "source": [
        "nunique = df.nunique()\n",
        "display(nunique)\n",
        "\n",
        "cols_binary = [x for x in df.columns if (nunique[x] == 2) & (x != 'Diabetes_binary')]\n",
        "cols_non_binary = [x for x in df.columns if (x not in cols_binary) & (x != 'Diabetes_binary')]\n",
        "\n",
        "print(f'Hay {len(cols_binary)} features binarias y {len(cols_non_binary)} no binarias.')"
      ]
    },
    {
      "cell_type": "markdown",
      "metadata": {
        "id": "yj5fnFzQZ3E7"
      },
      "source": [
        "Considerando las variables binarias, tenemos 5 que están relativamente balanceadas (`HighBP`, `HighChol`, `Smoker`, `Fruits` y `Sex`), mientras que el resto toma valores más extremos. El significado de las variables es el siguiente:\n",
        "- `HighBP`: tiene presión sanguínea alta, donde 0 es no y 1 es sí.\n",
        "- `HighChol`: tiene colesterol alto, donde 0 es no y 1 es sí.\n",
        "- `CholCheck`: se controló el colesterol en los últimos 5 años, donde 0 es no y 1 es sí.\n",
        "- `Smoker`: fumó al menos 100 cigarrillos a lo largo de su vida, donde 0 es no y 1 es sí.\n",
        "- `Stroke`: tuvo un ACV, donde 0 es no y 1 es sí.\n",
        "- `HeartDiseaseorAttack`: tiene enfermedades coronarias o ataques cardíacos, donde 0 es no y 1 es sí.\n",
        "- `PhysActivity`: realizó actividad física en los últimos 30 días, donde 0 es no y 1 es sí.\n",
        "- `Fruits`: consume al menos 1 fruta al día, donde 0 es no y 1 es sí.\n",
        "- `Veggies`: consume al menos 1 vegetal al día, donde 0 es no y 1 es sí.\n",
        "- `HvyAlcoholConsump`: consumo excesivo de alcohol (más de 14 bebidas en caso de varones o más de 7 bebidas en caso de mujeres), donde 0 es no y 1 es sí.\n",
        "- `AnyHealthcare`: posee algún tipo de cobertura médica, donde 0 es no y 1 es sí.\n",
        "- `NoDocbcCost`: tuvo la necesidad de ir al médico en el último año, pero no fue por el costo, donde 0 es no y 1 es sí.\n",
        "- `DiffWalk`: posee dificultad para caminar o subir escaleras, donde 0 es no y 1 es sí.\n",
        "- `Sex`: sexo, donde 0 es mujer y 1 es varon."
      ]
    },
    {
      "cell_type": "code",
      "execution_count": null,
      "metadata": {
        "id": "fe7-k1dpZ3E7"
      },
      "outputs": [],
      "source": [
        "display(df[cols_binary].mean()*100)\n",
        "\n",
        "_, axs = plt.subplots(2, 7, figsize=(35, 10))\n",
        "for cat in range(7):\n",
        "    sns.histplot(data=df, x=cols_binary[cat], ax=axs[0, cat])\n",
        "    axs[0, cat].set_ylabel('')\n",
        "    sns.histplot(data=df, x=cols_binary[cat+7], ax=axs[1, cat])\n",
        "    axs[1, cat].set_ylabel('')"
      ]
    },
    {
      "cell_type": "markdown",
      "metadata": {
        "id": "azrSAo0YZ3E8"
      },
      "source": [
        "Pasando ahora a las 7 características no binarias, su significado es el siguiente:\n",
        "- `BMI`: índice de masa corporal, donde debajo de 18.5 se considera por debajo del peso ideal, entre 18.5 y 24.9 es un peso saludable, de 25.0 a 29.9 es sobrepeso y por encima de 30.0 es obesidad.\n",
        "- `GenHlth`: autopercepción del estado general de salud, donde 1 es excelente, 2 es muy bueno, 3 es bueno, 4 es malo y 5 es muy malo.\n",
        "- `MentHlth`: cuántos de los últimos 30 días tuvo una mala salud mental.\n",
        "- `PhysHlth`: cuántos de los últimos 30 días tuvo una herida o enfermedad física.\n",
        "- `Age`: categorización de edades en 13 niveles, donde 1 va desde 18 hasta 24, luego toma de a 5 años hasta llegar a la categoría 13 para 80 años o más.\n",
        "- `Education`: categorización de niveles de estudio en 6 niveles, donde 1 es nunca fue a la escuela o sólo al jardín y 6 es que asistió a la universidad 4 años o más.\n",
        "- `Income`: categorización de niveles de ingreso en 8 niveles, donde 1 es menos de $ 10.000 dólares, luego toma de a $5.000 dólares hasta llegar a 8 para $75.000 o más.\n",
        "\n",
        "Vemos que `MentHlth` y `PhysHlth` presentan una dispersión de datos mucho mayor a la media. Además, el rango de valores posibles es diferente para cada una de las variables. Al comparar las distribuciones para cada variable en función de la variable objetivo, se aprecian diferencias en general."
      ]
    },
    {
      "cell_type": "code",
      "execution_count": null,
      "metadata": {
        "id": "dQHL4f1PZ3E8"
      },
      "outputs": [],
      "source": [
        "display(df[cols_non_binary].describe())\n",
        "\n",
        "\n",
        "_, axs = plt.subplots(2, 4, figsize=(20, 10))\n",
        "for cat in range(4):\n",
        "    sns.kdeplot(data=df, x=cols_non_binary[cat], hue='Diabetes_binary', ax=axs[0, cat])\n",
        "    axs[0, cat].set_ylabel('')\n",
        "    axs[0, cat].grid()\n",
        "\n",
        "for cat in range(3):\n",
        "    sns.kdeplot(data=df, x=cols_non_binary[cat+4], hue='Diabetes_binary', ax=axs[1, cat])\n",
        "    axs[1, cat].set_ylabel('')\n",
        "    axs[1, cat].grid()\n",
        "\n",
        "axs[1, 3].set_axis_off()"
      ]
    }
  ],
  "metadata": {
    "kernelspec": {
      "display_name": "Python 3",
      "language": "python",
      "name": "python3"
    },
    "language_info": {
      "codemirror_mode": {
        "name": "ipython",
        "version": 3
      },
      "file_extension": ".py",
      "mimetype": "text/x-python",
      "name": "python",
      "nbconvert_exporter": "python",
      "pygments_lexer": "ipython3",
      "version": "3.10.12"
    },
    "colab": {
      "provenance": []
    }
  },
  "nbformat": 4,
  "nbformat_minor": 0
}